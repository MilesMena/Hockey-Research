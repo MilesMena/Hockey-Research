{
 "cells": [
  {
   "cell_type": "markdown",
   "id": "028f6a36",
   "metadata": {},
   "source": [
    "This program graphs the win probability of the home team for any game."
   ]
  },
  {
   "cell_type": "code",
   "execution_count": 1,
   "id": "bec7c51b",
   "metadata": {},
   "outputs": [
    {
     "data": {
      "text/html": [
       "<div>\n",
       "<style scoped>\n",
       "    .dataframe tbody tr th:only-of-type {\n",
       "        vertical-align: middle;\n",
       "    }\n",
       "\n",
       "    .dataframe tbody tr th {\n",
       "        vertical-align: top;\n",
       "    }\n",
       "\n",
       "    .dataframe thead th {\n",
       "        text-align: right;\n",
       "    }\n",
       "</style>\n",
       "<table border=\"1\" class=\"dataframe\">\n",
       "  <thead>\n",
       "    <tr style=\"text-align: right;\">\n",
       "      <th></th>\n",
       "      <th>homeTeamCode</th>\n",
       "      <th>awayTeamCode</th>\n",
       "      <th>game_id</th>\n",
       "      <th>time</th>\n",
       "      <th>timeUntilNextEvent</th>\n",
       "      <th>period</th>\n",
       "      <th>team</th>\n",
       "      <th>SOG DIF</th>\n",
       "      <th>stdev</th>\n",
       "      <th>event</th>\n",
       "      <th>...</th>\n",
       "      <th>isHomeTeam</th>\n",
       "      <th>shotWasOnGoal</th>\n",
       "      <th>teamCode</th>\n",
       "      <th>isPenalty</th>\n",
       "      <th>TransitionState</th>\n",
       "      <th>isHomeWin</th>\n",
       "      <th>isHomeLoss</th>\n",
       "      <th>JacobMilesTransitions</th>\n",
       "      <th>WillTrans</th>\n",
       "      <th>WillCurrentTrans</th>\n",
       "    </tr>\n",
       "  </thead>\n",
       "  <tbody>\n",
       "    <tr>\n",
       "      <th>0</th>\n",
       "      <td>MTL</td>\n",
       "      <td>TOR</td>\n",
       "      <td>20001</td>\n",
       "      <td>0</td>\n",
       "      <td>0</td>\n",
       "      <td>1</td>\n",
       "      <td>NaN</td>\n",
       "      <td>0</td>\n",
       "      <td>0</td>\n",
       "      <td>GAMESTART</td>\n",
       "      <td>...</td>\n",
       "      <td>0</td>\n",
       "      <td>0</td>\n",
       "      <td>NaN</td>\n",
       "      <td>0</td>\n",
       "      <td>0,5,5</td>\n",
       "      <td>0</td>\n",
       "      <td>0</td>\n",
       "      <td>0</td>\n",
       "      <td>0,0</td>\n",
       "      <td>0</td>\n",
       "    </tr>\n",
       "    <tr>\n",
       "      <th>1</th>\n",
       "      <td>MTL</td>\n",
       "      <td>TOR</td>\n",
       "      <td>20001</td>\n",
       "      <td>74</td>\n",
       "      <td>74</td>\n",
       "      <td>1</td>\n",
       "      <td>AWAY</td>\n",
       "      <td>-1</td>\n",
       "      <td>0</td>\n",
       "      <td>MISS</td>\n",
       "      <td>...</td>\n",
       "      <td>0</td>\n",
       "      <td>0</td>\n",
       "      <td>TOR</td>\n",
       "      <td>0</td>\n",
       "      <td>0,5,5</td>\n",
       "      <td>0</td>\n",
       "      <td>0</td>\n",
       "      <td>0,5,5</td>\n",
       "      <td>0,0</td>\n",
       "      <td>0,0</td>\n",
       "    </tr>\n",
       "    <tr>\n",
       "      <th>2</th>\n",
       "      <td>MTL</td>\n",
       "      <td>TOR</td>\n",
       "      <td>20001</td>\n",
       "      <td>383</td>\n",
       "      <td>309</td>\n",
       "      <td>1</td>\n",
       "      <td>HOME</td>\n",
       "      <td>PENALTY</td>\n",
       "      <td>0</td>\n",
       "      <td>PENALTYSTART</td>\n",
       "      <td>...</td>\n",
       "      <td>1</td>\n",
       "      <td>0</td>\n",
       "      <td>MTL</td>\n",
       "      <td>1</td>\n",
       "      <td>0,4,5</td>\n",
       "      <td>0</td>\n",
       "      <td>0</td>\n",
       "      <td>0</td>\n",
       "      <td>0,-1</td>\n",
       "      <td>0</td>\n",
       "    </tr>\n",
       "    <tr>\n",
       "      <th>3</th>\n",
       "      <td>MTL</td>\n",
       "      <td>TOR</td>\n",
       "      <td>20001</td>\n",
       "      <td>396</td>\n",
       "      <td>13</td>\n",
       "      <td>1</td>\n",
       "      <td>AWAY</td>\n",
       "      <td>0</td>\n",
       "      <td>0</td>\n",
       "      <td>SHOT</td>\n",
       "      <td>...</td>\n",
       "      <td>0</td>\n",
       "      <td>1</td>\n",
       "      <td>TOR</td>\n",
       "      <td>0</td>\n",
       "      <td>0,4,5</td>\n",
       "      <td>0</td>\n",
       "      <td>0</td>\n",
       "      <td>0,4,5</td>\n",
       "      <td>0,-1</td>\n",
       "      <td>0,-1</td>\n",
       "    </tr>\n",
       "    <tr>\n",
       "      <th>4</th>\n",
       "      <td>MTL</td>\n",
       "      <td>TOR</td>\n",
       "      <td>20001</td>\n",
       "      <td>438</td>\n",
       "      <td>42</td>\n",
       "      <td>1</td>\n",
       "      <td>HOME</td>\n",
       "      <td>PENALTY</td>\n",
       "      <td>0</td>\n",
       "      <td>PENALTYSTART</td>\n",
       "      <td>...</td>\n",
       "      <td>1</td>\n",
       "      <td>0</td>\n",
       "      <td>MTL</td>\n",
       "      <td>1</td>\n",
       "      <td>0,3,5</td>\n",
       "      <td>0</td>\n",
       "      <td>0</td>\n",
       "      <td>0,3,5</td>\n",
       "      <td>0,-2</td>\n",
       "      <td>0,-2</td>\n",
       "    </tr>\n",
       "  </tbody>\n",
       "</table>\n",
       "<p>5 rows × 29 columns</p>\n",
       "</div>"
      ],
      "text/plain": [
       "  homeTeamCode awayTeamCode  game_id  time  timeUntilNextEvent  period  team  \\\n",
       "0          MTL          TOR    20001     0                   0       1   NaN   \n",
       "1          MTL          TOR    20001    74                  74       1  AWAY   \n",
       "2          MTL          TOR    20001   383                 309       1  HOME   \n",
       "3          MTL          TOR    20001   396                  13       1  AWAY   \n",
       "4          MTL          TOR    20001   438                  42       1  HOME   \n",
       "\n",
       "  SOG DIF   stdev         event  ...  isHomeTeam  shotWasOnGoal  teamCode  \\\n",
       "0        0      0     GAMESTART  ...           0              0       NaN   \n",
       "1       -1      0          MISS  ...           0              0       TOR   \n",
       "2  PENALTY      0  PENALTYSTART  ...           1              0       MTL   \n",
       "3        0      0          SHOT  ...           0              1       TOR   \n",
       "4  PENALTY      0  PENALTYSTART  ...           1              0       MTL   \n",
       "\n",
       "   isPenalty  TransitionState  isHomeWin  isHomeLoss  JacobMilesTransitions  \\\n",
       "0          0            0,5,5          0           0                      0   \n",
       "1          0            0,5,5          0           0                  0,5,5   \n",
       "2          1            0,4,5          0           0                      0   \n",
       "3          0            0,4,5          0           0                  0,4,5   \n",
       "4          1            0,3,5          0           0                  0,3,5   \n",
       "\n",
       "   WillTrans  WillCurrentTrans  \n",
       "0        0,0                 0  \n",
       "1        0,0               0,0  \n",
       "2       0,-1                 0  \n",
       "3       0,-1              0,-1  \n",
       "4       0,-2              0,-2  \n",
       "\n",
       "[5 rows x 29 columns]"
      ]
     },
     "execution_count": 1,
     "metadata": {},
     "output_type": "execute_result"
    }
   ],
   "source": [
    "# Import Pandas, Matplotlib, and read the hockey data.\n",
    "import pandas as pd\n",
    "import matplotlib.pyplot as plt\n",
    "df = pd.read_csv(\"Subset_Hockey_Data.csv\")\n",
    "df.head()"
   ]
  },
  {
   "cell_type": "code",
   "execution_count": 3,
   "id": "ad2c70c8",
   "metadata": {},
   "outputs": [
    {
     "name": "stdout",
     "output_type": "stream",
     "text": [
      "[20001 20002 20003 ... 21228 21229 21230]\n"
     ]
    }
   ],
   "source": [
    "# Create the df that contains transition states for every game.\n",
    "games = df.game_id.unique()\n",
    "print(games)\n",
    "df_single_games = pd.DataFrame()\n",
    "for i in range(len(games)):\n",
    "    df_single_games[games[i]] = df.loc[df[\"game_id\"] == games[i]][\"TransitionState\"].reset_index(drop = True)  "
   ]
  },
  {
   "cell_type": "code",
   "execution_count": 3,
   "id": "7008973f",
   "metadata": {},
   "outputs": [],
   "source": [
    "# Create the df that contains time of events for every game.\n",
    "df_single_times = pd.DataFrame()\n",
    "for i in range(len(games)):\n",
    "    df_single_times[games[i]] = df.loc[df[\"game_id\"] == games[i]][\"time\"].reset_index(drop = True)"
   ]
  },
  {
   "cell_type": "code",
   "execution_count": 4,
   "id": "b5bc811c",
   "metadata": {},
   "outputs": [],
   "source": [
    "# Function used to create df_trans_lambda\n",
    "def get_state_one(transitions):\n",
    "    return transitions.split(\">\")[0]\n",
    "def get_win_id(state):\n",
    "    for s in unique_state_one:\n",
    "        if s == state:\n",
    "            return unique_state_one.index(s) + 1"
   ]
  },
  {
   "cell_type": "code",
   "execution_count": 5,
   "id": "114d72a4",
   "metadata": {},
   "outputs": [],
   "source": [
    "# Create a list of unique state ones \n",
    "\n",
    "\n",
    "# Create df that holds every transitions (s1>s2) and win ID of state one\n",
    "df_trans_lambda = pd.read_csv(\"TransitionsLambdas.csv\")\n",
    "df_trans_lambda[\"StateOne\"] = df_trans_lambda.Transitions.apply(get_state_one)\n",
    "unique_state_one = list(df_trans_lambda.StateOne.unique())\n",
    "state_winID = {x:unique_state_one.index(x) + 1 for x in unique_state_one}\n",
    "df_trans_lambda[\"WinID\"] = df_trans_lambda.StateOne.apply(get_win_id)\n",
    "win_ids = list(df_trans_lambda.WinID.unique())"
   ]
  },
  {
   "cell_type": "code",
   "execution_count": 6,
   "id": "9e20c666",
   "metadata": {},
   "outputs": [],
   "source": [
    "# Def to swap state for win ID. Used in creating df_win_time\n",
    "def swap_state_win(state):\n",
    "    return state_winID.get(state)"
   ]
  },
  {
   "cell_type": "code",
   "execution_count": 10,
   "id": "0713bda2",
   "metadata": {},
   "outputs": [
    {
     "ename": "NameError",
     "evalue": "name 'df_single_times' is not defined",
     "output_type": "error",
     "traceback": [
      "\u001b[1;31m---------------------------------------------------------------------------\u001b[0m",
      "\u001b[1;31mNameError\u001b[0m                                 Traceback (most recent call last)",
      "\u001b[1;32m<ipython-input-10-c37c9308f9fb>\u001b[0m in \u001b[0;36m<module>\u001b[1;34m\u001b[0m\n\u001b[0;32m      4\u001b[0m \u001b[0mdf_win_time\u001b[0m \u001b[1;33m=\u001b[0m \u001b[0mpd\u001b[0m\u001b[1;33m.\u001b[0m\u001b[0mDataFrame\u001b[0m\u001b[1;33m(\u001b[0m\u001b[1;33m)\u001b[0m\u001b[1;33m\u001b[0m\u001b[1;33m\u001b[0m\u001b[0m\n\u001b[0;32m      5\u001b[0m \u001b[0mdf_win_time\u001b[0m\u001b[1;33m[\u001b[0m\u001b[1;34m\"WinID\"\u001b[0m\u001b[1;33m]\u001b[0m \u001b[1;33m=\u001b[0m \u001b[1;33m(\u001b[0m\u001b[0mdf_single_games\u001b[0m\u001b[1;33m[\u001b[0m\u001b[0mgame\u001b[0m\u001b[1;33m]\u001b[0m\u001b[1;33m.\u001b[0m\u001b[0mapply\u001b[0m\u001b[1;33m(\u001b[0m\u001b[0mswap_state_win\u001b[0m\u001b[1;33m)\u001b[0m\u001b[1;33m)\u001b[0m\u001b[1;33m\u001b[0m\u001b[1;33m\u001b[0m\u001b[0m\n\u001b[1;32m----> 6\u001b[1;33m \u001b[0mdf_win_time\u001b[0m\u001b[1;33m[\u001b[0m\u001b[1;34m\"Time\"\u001b[0m\u001b[1;33m]\u001b[0m \u001b[1;33m=\u001b[0m \u001b[0mdf_single_times\u001b[0m\u001b[1;33m[\u001b[0m\u001b[0mgame\u001b[0m\u001b[1;33m]\u001b[0m\u001b[1;33m.\u001b[0m\u001b[0mreset_index\u001b[0m\u001b[1;33m(\u001b[0m\u001b[0mdrop\u001b[0m \u001b[1;33m=\u001b[0m \u001b[1;32mTrue\u001b[0m\u001b[1;33m)\u001b[0m\u001b[1;33m\u001b[0m\u001b[1;33m\u001b[0m\u001b[0m\n\u001b[0m\u001b[0;32m      7\u001b[0m \u001b[0mdf_win_time\u001b[0m\u001b[1;33m.\u001b[0m\u001b[0mdropna\u001b[0m\u001b[1;33m(\u001b[0m\u001b[0maxis\u001b[0m \u001b[1;33m=\u001b[0m \u001b[1;36m0\u001b[0m\u001b[1;33m,\u001b[0m \u001b[0minplace\u001b[0m \u001b[1;33m=\u001b[0m \u001b[1;32mTrue\u001b[0m\u001b[1;33m)\u001b[0m\u001b[1;33m\u001b[0m\u001b[1;33m\u001b[0m\u001b[0m\n",
      "\u001b[1;31mNameError\u001b[0m: name 'df_single_times' is not defined"
     ]
    }
   ],
   "source": [
    "# Create df that contains win ID and Time for a singular game\n",
    "a = 3\n",
    "game = 20000 + a\n",
    "df_win_time = pd.DataFrame()\n",
    "df_win_time[\"WinID\"] = (df_single_games[game].apply(swap_state_win))\n",
    "df_win_time[\"Time\"] = df_single_times[game].reset_index(drop = True)\n",
    "df_win_time.dropna(axis = 0, inplace = True)"
   ]
  },
  {
   "cell_type": "code",
   "execution_count": 8,
   "id": "fb77ba25",
   "metadata": {},
   "outputs": [],
   "source": [
    "# Print column defining statements to a txt file.\n",
    "f1 = open(\"col_printer.txt\", \"w\")\n",
    "def col_printer(win):\n",
    "    for ident in win:\n",
    "        f1.write(\"col\" + str(ident) + \" =y(:,\" + str(ident) + \");\\n\")\n",
    "col_printer(win_ids)\n",
    "f1.close()"
   ]
  },
  {
   "cell_type": "code",
   "execution_count": 9,
   "id": "f934eb75",
   "metadata": {},
   "outputs": [
    {
     "ename": "KeyError",
     "evalue": "\"['Time'] not in index\"",
     "output_type": "error",
     "traceback": [
      "\u001b[1;31m---------------------------------------------------------------------------\u001b[0m",
      "\u001b[1;31mKeyError\u001b[0m                                  Traceback (most recent call last)",
      "\u001b[1;32m<ipython-input-9-90eb8bb232f2>\u001b[0m in \u001b[0;36m<module>\u001b[1;34m\u001b[0m\n\u001b[0;32m      5\u001b[0m     \u001b[0mtime\u001b[0m \u001b[1;33m=\u001b[0m \u001b[1;33m(\u001b[0m\u001b[0mstr\u001b[0m\u001b[1;33m(\u001b[0m\u001b[1;33m(\u001b[0m\u001b[0mvec\u001b[0m\u001b[1;33m[\u001b[0m\u001b[1;36m1\u001b[0m\u001b[1;33m]\u001b[0m\u001b[1;33m)\u001b[0m\u001b[1;33m)\u001b[0m\u001b[1;33m.\u001b[0m\u001b[0msplit\u001b[0m\u001b[1;33m(\u001b[0m\u001b[1;34m\".\"\u001b[0m\u001b[1;33m)\u001b[0m\u001b[1;33m[\u001b[0m\u001b[1;36m0\u001b[0m\u001b[1;33m]\u001b[0m\u001b[1;33m)\u001b[0m\u001b[1;33m\u001b[0m\u001b[1;33m\u001b[0m\u001b[0m\n\u001b[0;32m      6\u001b[0m     \u001b[0mf2\u001b[0m\u001b[1;33m.\u001b[0m\u001b[0mwrite\u001b[0m\u001b[1;33m(\u001b[0m\u001b[1;34m\"\\n\"\u001b[0m \u001b[1;33m+\u001b[0m \u001b[1;34m\"fprintf('\"\u001b[0m \u001b[1;33m+\u001b[0m \u001b[0mtime\u001b[0m \u001b[1;33m+\u001b[0m \u001b[1;34m\"\\\\t%2.15f\\\\n',\"\u001b[0m \u001b[1;33m+\u001b[0m \u001b[1;34m\"col\"\u001b[0m \u001b[1;33m+\u001b[0m  \u001b[0mwin\u001b[0m \u001b[1;33m+\u001b[0m \u001b[1;34m\"(\"\u001b[0m  \u001b[1;33m+\u001b[0m \u001b[0mtime\u001b[0m \u001b[1;33m+\u001b[0m \u001b[1;34m\")\"\u001b[0m \u001b[1;33m+\u001b[0m \u001b[1;34m\")\"\u001b[0m\u001b[1;33m)\u001b[0m\u001b[1;33m\u001b[0m\u001b[1;33m\u001b[0m\u001b[0m\n\u001b[1;32m----> 7\u001b[1;33m \u001b[0mdf_win_time\u001b[0m\u001b[1;33m[\u001b[0m\u001b[1;33m[\u001b[0m\u001b[1;34m\"WinID\"\u001b[0m\u001b[1;33m,\u001b[0m\u001b[1;34m\"Time\"\u001b[0m\u001b[1;33m]\u001b[0m\u001b[1;33m]\u001b[0m\u001b[1;33m.\u001b[0m\u001b[0mapply\u001b[0m\u001b[1;33m(\u001b[0m\u001b[0mfprinter\u001b[0m\u001b[1;33m,\u001b[0m \u001b[0maxis\u001b[0m \u001b[1;33m=\u001b[0m \u001b[1;36m1\u001b[0m\u001b[1;33m)\u001b[0m\u001b[1;33m\u001b[0m\u001b[1;33m\u001b[0m\u001b[0m\n\u001b[0m\u001b[0;32m      8\u001b[0m \u001b[0mf2\u001b[0m\u001b[1;33m.\u001b[0m\u001b[0mclose\u001b[0m\u001b[1;33m(\u001b[0m\u001b[1;33m)\u001b[0m\u001b[1;33m\u001b[0m\u001b[1;33m\u001b[0m\u001b[0m\n",
      "\u001b[1;32m~\\anaconda3\\lib\\site-packages\\pandas\\core\\frame.py\u001b[0m in \u001b[0;36m__getitem__\u001b[1;34m(self, key)\u001b[0m\n\u001b[0;32m   3028\u001b[0m             \u001b[1;32mif\u001b[0m \u001b[0mis_iterator\u001b[0m\u001b[1;33m(\u001b[0m\u001b[0mkey\u001b[0m\u001b[1;33m)\u001b[0m\u001b[1;33m:\u001b[0m\u001b[1;33m\u001b[0m\u001b[1;33m\u001b[0m\u001b[0m\n\u001b[0;32m   3029\u001b[0m                 \u001b[0mkey\u001b[0m \u001b[1;33m=\u001b[0m \u001b[0mlist\u001b[0m\u001b[1;33m(\u001b[0m\u001b[0mkey\u001b[0m\u001b[1;33m)\u001b[0m\u001b[1;33m\u001b[0m\u001b[1;33m\u001b[0m\u001b[0m\n\u001b[1;32m-> 3030\u001b[1;33m             \u001b[0mindexer\u001b[0m \u001b[1;33m=\u001b[0m \u001b[0mself\u001b[0m\u001b[1;33m.\u001b[0m\u001b[0mloc\u001b[0m\u001b[1;33m.\u001b[0m\u001b[0m_get_listlike_indexer\u001b[0m\u001b[1;33m(\u001b[0m\u001b[0mkey\u001b[0m\u001b[1;33m,\u001b[0m \u001b[0maxis\u001b[0m\u001b[1;33m=\u001b[0m\u001b[1;36m1\u001b[0m\u001b[1;33m,\u001b[0m \u001b[0mraise_missing\u001b[0m\u001b[1;33m=\u001b[0m\u001b[1;32mTrue\u001b[0m\u001b[1;33m)\u001b[0m\u001b[1;33m[\u001b[0m\u001b[1;36m1\u001b[0m\u001b[1;33m]\u001b[0m\u001b[1;33m\u001b[0m\u001b[1;33m\u001b[0m\u001b[0m\n\u001b[0m\u001b[0;32m   3031\u001b[0m \u001b[1;33m\u001b[0m\u001b[0m\n\u001b[0;32m   3032\u001b[0m         \u001b[1;31m# take() does not accept boolean indexers\u001b[0m\u001b[1;33m\u001b[0m\u001b[1;33m\u001b[0m\u001b[1;33m\u001b[0m\u001b[0m\n",
      "\u001b[1;32m~\\anaconda3\\lib\\site-packages\\pandas\\core\\indexing.py\u001b[0m in \u001b[0;36m_get_listlike_indexer\u001b[1;34m(self, key, axis, raise_missing)\u001b[0m\n\u001b[0;32m   1264\u001b[0m             \u001b[0mkeyarr\u001b[0m\u001b[1;33m,\u001b[0m \u001b[0mindexer\u001b[0m\u001b[1;33m,\u001b[0m \u001b[0mnew_indexer\u001b[0m \u001b[1;33m=\u001b[0m \u001b[0max\u001b[0m\u001b[1;33m.\u001b[0m\u001b[0m_reindex_non_unique\u001b[0m\u001b[1;33m(\u001b[0m\u001b[0mkeyarr\u001b[0m\u001b[1;33m)\u001b[0m\u001b[1;33m\u001b[0m\u001b[1;33m\u001b[0m\u001b[0m\n\u001b[0;32m   1265\u001b[0m \u001b[1;33m\u001b[0m\u001b[0m\n\u001b[1;32m-> 1266\u001b[1;33m         \u001b[0mself\u001b[0m\u001b[1;33m.\u001b[0m\u001b[0m_validate_read_indexer\u001b[0m\u001b[1;33m(\u001b[0m\u001b[0mkeyarr\u001b[0m\u001b[1;33m,\u001b[0m \u001b[0mindexer\u001b[0m\u001b[1;33m,\u001b[0m \u001b[0maxis\u001b[0m\u001b[1;33m,\u001b[0m \u001b[0mraise_missing\u001b[0m\u001b[1;33m=\u001b[0m\u001b[0mraise_missing\u001b[0m\u001b[1;33m)\u001b[0m\u001b[1;33m\u001b[0m\u001b[1;33m\u001b[0m\u001b[0m\n\u001b[0m\u001b[0;32m   1267\u001b[0m         \u001b[1;32mreturn\u001b[0m \u001b[0mkeyarr\u001b[0m\u001b[1;33m,\u001b[0m \u001b[0mindexer\u001b[0m\u001b[1;33m\u001b[0m\u001b[1;33m\u001b[0m\u001b[0m\n\u001b[0;32m   1268\u001b[0m \u001b[1;33m\u001b[0m\u001b[0m\n",
      "\u001b[1;32m~\\anaconda3\\lib\\site-packages\\pandas\\core\\indexing.py\u001b[0m in \u001b[0;36m_validate_read_indexer\u001b[1;34m(self, key, indexer, axis, raise_missing)\u001b[0m\n\u001b[0;32m   1314\u001b[0m             \u001b[1;32mif\u001b[0m \u001b[0mraise_missing\u001b[0m\u001b[1;33m:\u001b[0m\u001b[1;33m\u001b[0m\u001b[1;33m\u001b[0m\u001b[0m\n\u001b[0;32m   1315\u001b[0m                 \u001b[0mnot_found\u001b[0m \u001b[1;33m=\u001b[0m \u001b[0mlist\u001b[0m\u001b[1;33m(\u001b[0m\u001b[0mset\u001b[0m\u001b[1;33m(\u001b[0m\u001b[0mkey\u001b[0m\u001b[1;33m)\u001b[0m \u001b[1;33m-\u001b[0m \u001b[0mset\u001b[0m\u001b[1;33m(\u001b[0m\u001b[0max\u001b[0m\u001b[1;33m)\u001b[0m\u001b[1;33m)\u001b[0m\u001b[1;33m\u001b[0m\u001b[1;33m\u001b[0m\u001b[0m\n\u001b[1;32m-> 1316\u001b[1;33m                 \u001b[1;32mraise\u001b[0m \u001b[0mKeyError\u001b[0m\u001b[1;33m(\u001b[0m\u001b[1;34mf\"{not_found} not in index\"\u001b[0m\u001b[1;33m)\u001b[0m\u001b[1;33m\u001b[0m\u001b[1;33m\u001b[0m\u001b[0m\n\u001b[0m\u001b[0;32m   1317\u001b[0m \u001b[1;33m\u001b[0m\u001b[0m\n\u001b[0;32m   1318\u001b[0m             \u001b[0mnot_found\u001b[0m \u001b[1;33m=\u001b[0m \u001b[0mkey\u001b[0m\u001b[1;33m[\u001b[0m\u001b[0mmissing_mask\u001b[0m\u001b[1;33m]\u001b[0m\u001b[1;33m\u001b[0m\u001b[1;33m\u001b[0m\u001b[0m\n",
      "\u001b[1;31mKeyError\u001b[0m: \"['Time'] not in index\""
     ]
    }
   ],
   "source": [
    "# print fprint statements to a txt file.\n",
    "f2 = open(\"fprinter.txt\",\"w\")\n",
    "def fprinter(vec):\n",
    "    win = (str((vec[0])).split(\".\")[0])\n",
    "    time = (str((vec[1])).split(\".\")[0])\n",
    "    f2.write(\"\\n\" + \"fprintf('\" + time + \"\\\\t%2.15f\\\\n',\" + \"col\" +  win + \"(\"  + time + \")\" + \")\")\n",
    "df_win_time[[\"WinID\",\"Time\"]].apply(fprinter, axis = 1)\n",
    "f2.close()"
   ]
  },
  {
   "cell_type": "code",
   "execution_count": 11,
   "id": "72f6d51b",
   "metadata": {},
   "outputs": [],
   "source": [
    "# Create the text file for Harvey to run.\n",
    "f3 = open(\"harveyHockey_p1.txt\",\"r\")\n",
    "f4 = open(\"col_printer.txt\",\"r\")\n",
    "f5 = open(\"fprinter.txt\",\"r\")\n",
    "f6 = open(\"HockeyGameMatlab.txt\", \"w\")\n",
    "lines3 = f3.readlines()\n",
    "for line in lines3:\n",
    "    f6.write(line)\n",
    "lines4 = f4.readlines()\n",
    "for line in lines4:\n",
    "    f6.write(line)\n",
    "lines5 = f5.readlines()\n",
    "for line in lines5:\n",
    "    f6.write(line)\n",
    "game_id = \"\\n\" + \"# game_id = \" + str(game)\n",
    "f6.write(game_id)\n",
    "f3.close()\n",
    "f4.close()\n",
    "f5.close()\n",
    "f6.close()"
   ]
  },
  {
   "cell_type": "code",
   "execution_count": 12,
   "id": "75c567cd",
   "metadata": {},
   "outputs": [],
   "source": [
    "# \n",
    "f7 = open(\"game_20003_time_prob.txt\",\"r\")\n",
    "time = []\n",
    "prob = []\n",
    "lines7 = f7.readlines()\n",
    "for line in lines7:\n",
    "    parts = line.split(\"\\t\")\n",
    "    time.append(int(parts[0]))\n",
    "    prob.append(float(parts[1].replace(\" \", \"\").strip(\"\\n\")))"
   ]
  },
  {
   "cell_type": "code",
   "execution_count": 14,
   "id": "669be50e",
   "metadata": {},
   "outputs": [
    {
     "data": {
      "text/plain": [
       "[Text(0.5, 1.0, 'EDM vs. WPG'),\n",
       " Text(0, 0.5, 'Home Team Win Probability'),\n",
       " Text(0.5, 0, 'Time')]"
      ]
     },
     "execution_count": 14,
     "metadata": {},
     "output_type": "execute_result"
    },
    {
     "data": {
      "image/png": "[encoded data removed]",
      "text/plain": [
       "<Figure size 432x288 with 1 Axes>"
      ]
     },
     "metadata": {
      "needs_background": "light"
     },
     "output_type": "display_data"
    }
   ],
   "source": [
    "title = df.loc[df[\"game_id\"] == game].reset_index(drop = True)[\"homeTeamCode\"][0] + \" vs. \" + df.loc[df[\"game_id\"] == game].reset_index(drop = True)[\"awayTeamCode\"][0]\n",
    "fig, ax = plt.subplots()\n",
    "plt.plot(time,prob)\n",
    "ax.set(title = title, ylabel = \"Home Team Win Probability\", xlabel = \"Time\")"
   ]
  }
 ],
 "metadata": {
  "kernelspec": {
   "display_name": "Python 3",
   "language": "python",
   "name": "python3"
  },
  "language_info": {
   "codemirror_mode": {
    "name": "ipython",
    "version": 3
   },
   "file_extension": ".py",
   "mimetype": "text/x-python",
   "name": "python",
   "nbconvert_exporter": "python",
   "pygments_lexer": "ipython3",
   "version": "3.8.8"
  }
 },
 "nbformat": 4,
 "nbformat_minor": 5
}
